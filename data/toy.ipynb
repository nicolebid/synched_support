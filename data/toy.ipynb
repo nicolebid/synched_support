{
 "cells": [
  {
   "cell_type": "code",
   "execution_count": 1,
   "metadata": {},
   "outputs": [],
   "source": [
    "import pandas as pd\n",
    "import plotly.graph_objects as go \n",
    "import numpy as np\n",
    "import os"
   ]
  },
  {
   "cell_type": "markdown",
   "metadata": {},
   "source": [
    "TO DO\n",
    "- tab 1 - card for increase/decrease/consistent workhabits from previous week \n",
    "\n",
    "- add in user input for deadlines and attendance\n",
    "- add in user input to delete old deadlines or hide them (?)\n",
    "- add in data verifications for user input\n",
    "- testing?\n",
    "- format finalizations\n",
    "- clean up scripts: \n",
    "    - not used functions \n",
    "    -  documentation\n",
    "    - delete data that no longer needed \n",
    "\n",
    "- push and clean git hub branches\n",
    "- change name of git hub folder\n",
    "- ensure environment works \n",
    "- Is graphs.attendance_barchate_none() in use?"
   ]
  }
 ],
 "metadata": {
  "kernelspec": {
   "display_name": "synched-support",
   "language": "python",
   "name": "python3"
  },
  "language_info": {
   "codemirror_mode": {
    "name": "ipython",
    "version": 3
   },
   "file_extension": ".py",
   "mimetype": "text/x-python",
   "name": "python",
   "nbconvert_exporter": "python",
   "pygments_lexer": "ipython3",
   "version": "3.13.0"
  }
 },
 "nbformat": 4,
 "nbformat_minor": 2
}
