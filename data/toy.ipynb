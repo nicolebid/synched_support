{
 "cells": [
  {
   "cell_type": "code",
   "execution_count": 1,
   "metadata": {},
   "outputs": [],
   "source": [
    "import pandas as pd\n",
    "import plotly.graph_objects as go \n",
    "import numpy as np\n",
    "import os"
   ]
  },
  {
   "cell_type": "markdown",
   "metadata": {},
   "source": [
    "TO DO\n",
    "- add in user input for deadlines and attendance\n",
    "- add in user input to delete old deadlines or hide them (?)\n",
    "- add in data verifications for user input\n",
    "- testing?\n",
    "- format finalizations\n",
    "- clean up scripts: \n",
    "    - not used functions \n",
    "    -  documentation\n",
    "    - delete data that no longer needed \n",
    "\n",
    "- push and clean git hub branches\n",
    "- change name of git hub folder\n",
    "- ensure environment works \n",
    "- Is graphs.attendance_barchate_none() in use?"
   ]
  },
  {
   "cell_type": "code",
   "execution_count": 2,
   "metadata": {},
   "outputs": [],
   "source": [
    "ATTEND_DATA = 'attendance_habits.csv'\n",
    "STUDENT_DATA = 'student.csv'\n",
    "df_attend = pd.read_csv(ATTEND_DATA)\n",
    "df_student = pd.read_csv(STUDENT_DATA)"
   ]
  },
  {
   "cell_type": "markdown",
   "metadata": {},
   "source": [
    "Student,Date,Course,Block,Attendance,Teacher,Habit,Work\n"
   ]
  },
  {
   "cell_type": "code",
   "execution_count": 3,
   "metadata": {},
   "outputs": [],
   "source": [
    "data = [\n",
    "    {\"Student\": \"Alice\", \"Workhabit Score\": 5, \"Worked On\": \"Math\", \"Support Attendance\": \"L\"},\n",
    "    {\"Student\": \"Bob\", \"Workhabit Score\": 3, \"Worked On\": \"Science\", \"Support Attendance\": \"P\"}\n",
    "]\n",
    "date = '2025-03-09'"
   ]
  },
  {
   "cell_type": "code",
   "execution_count": 4,
   "metadata": {},
   "outputs": [],
   "source": [
    "workhabit_scores = {0:'Off-task', 1:'Mostly Off-task', 2:'Equally On/Off-task', 3:'Mostly On-task', 4:'Mostly On-task', 5:'On-task'}\n"
   ]
  },
  {
   "cell_type": "code",
   "execution_count": 5,
   "metadata": {},
   "outputs": [
    {
     "data": {
      "text/plain": [
       "'Off-task'"
      ]
     },
     "execution_count": 5,
     "metadata": {},
     "output_type": "execute_result"
    }
   ],
   "source": [
    "workhabit_scores[0]"
   ]
  },
  {
   "cell_type": "code",
   "execution_count": null,
   "metadata": {},
   "outputs": [],
   "source": [
    "clean_data = []\n",
    "workhabit_scores = {0:'Off-task', 1:'Mostly Off-task', 2:'Equally On/Off-task', 3:'Mostly On-task', 4:'Mostly On-task', 5:'On-task'}\n",
    "\n",
    "for data_pt in data:\n",
    "    \n",
    "    # Set up\n",
    "    temp_pt = {}\n",
    "    df_course_block = df_student[df_student['Student'] == data_pt['Student']] # data for pulling Course, Block, Teacher\n",
    "    support_row = df_course_block[df_course_block['Course'].str.contains('Support')]\n",
    "\n",
    "    # obtain values\n",
    "    temp_pt['Student'] = data_pt['Student']\n",
    "    temp_pt['Date'] = date\n",
    "    temp_pt['Course'] = support_row['Course'].iloc[0]\n",
    "    temp_pt['Block'] = support_row['Block'].iloc[0]\n",
    "    temp_pt['Attendance'] = data_pt['Support Attendance']\n",
    "    temp_pt['Teacher'] = support_row['Teacher'].iloc[0]\n",
    "    temp_pt['Habit'] = workhabit_scores[data_pt['Workhabit Score']]\n",
    "    temp_pt['Work'] = data_pt['Worked On']\n",
    "\n",
    "    clean_data.append(temp_pt)\n",
    "\n",
    "# Save data\n",
    "current_data = pd.read_csv(ATTEND_DATA)\n",
    "df_clean = pd.DataFrame(clean_data)\n",
    "df_updated = pd.concat([current_data, df_clean], ignore_index=True)\n",
    "df_updated = df_updated.sort_values(by=['Student', 'Date'], ascending=[True, True])\n",
    "df_updated.to_csv(ATTEND_DATA, index=False)"
   ]
  },
  {
   "cell_type": "code",
   "execution_count": null,
   "metadata": {},
   "outputs": [],
   "source": [
    "def save_workhabits_data(data, date):\n",
    "    \"\"\"Updates attendance_habits.csv file to include user entered data.\n",
    "    \n",
    "    Parameters\n",
    "    ----------\n",
    "    data: list\n",
    "        A list of dictionaries obtained from the the dash table.\n",
    "\n",
    "    date: str\n",
    "        The date for the data entry obtained from the dash datepicker component. \n",
    "\n",
    "\n",
    "    Returns\n",
    "    -------\n",
    "    str: Verified message.  \n",
    "        \n",
    "    \"\"\"\n",
    "    clean_data = []\n",
    "    workhabit_scores = {0:'Off-task', 1:'Mostly Off-task', 2:'Equally On/Off-task', 3:'Mostly On-task', 4:'Mostly On-task', 5:'On-task'}\n",
    "\n",
    "    for data_pt in data:\n",
    "        \n",
    "        # Set up\n",
    "        temp_pt = {}\n",
    "        df_course_block = df_student[df_student['Student'] == data_pt['Student']] # data for pulling Course, Block, Teacher\n",
    "        support_row = df_course_block[df_course_block['Course'].str.contains('Support')]\n",
    "\n",
    "        # obtain values\n",
    "        temp_pt['Student'] = data_pt['Student']\n",
    "        temp_pt['Date'] = date\n",
    "        temp_pt['Course'] = support_row['Course'].iloc[0]\n",
    "        temp_pt['Block'] = support_row['Block'].iloc[0]\n",
    "        temp_pt['Attendance'] = data_pt['Support Attendance']\n",
    "        temp_pt['Teacher'] = support_row['Teacher'].iloc[0]\n",
    "        temp_pt['Habit'] = workhabit_scores[data_pt['Workhabit Score']]\n",
    "        temp_pt['Work'] = data_pt['Worked On']\n",
    "\n",
    "        clean_data.append(temp_pt)\n",
    "\n",
    "    # Save data\n",
    "    current_data = pd.read_csv(ATTEND_DATA)\n",
    "    df_clean = pd.DataFrame(clean_data)\n",
    "    df_updated = pd.concat([current_data, df_clean], ignore_index=True)\n",
    "    df_updated = df_updated.sort_values(by=['Student', 'Date'], ascending=[True, True])\n",
    "    df_updated.to_csv(ATTEND_DATA, index=False)\\\n",
    "    \n",
    "    return \"Data Saved.\"\n"
   ]
  }
 ],
 "metadata": {
  "kernelspec": {
   "display_name": "synched-support",
   "language": "python",
   "name": "python3"
  },
  "language_info": {
   "codemirror_mode": {
    "name": "ipython",
    "version": 3
   },
   "file_extension": ".py",
   "mimetype": "text/x-python",
   "name": "python",
   "nbconvert_exporter": "python",
   "pygments_lexer": "ipython3",
   "version": "3.13.0"
  }
 },
 "nbformat": 4,
 "nbformat_minor": 2
}
