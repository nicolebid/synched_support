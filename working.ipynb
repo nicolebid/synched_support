{
 "cells": [
  {
   "cell_type": "code",
   "execution_count": 9,
   "metadata": {},
   "outputs": [],
   "source": [
    "import pandas as pd\n",
    "import plotly.graph_objects as go \n",
    "import numpy as np\n",
    "import os\n",
    "import re\n",
    "import math \n",
    "from datetime import datetime, timedelta"
   ]
  },
  {
   "cell_type": "markdown",
   "metadata": {},
   "source": [
    "TO DO\n",
    "\n",
    "TAB 2 \n",
    "- make sure everything is working and use better example data \n",
    "- delete duplicates in assigned task for teachers chart \n",
    "- make assigned teacher tasks only 2 week prior and onwards \n",
    "\n",
    "OTHER\n",
    "- testing?\n",
    "- clean up scripts: \n",
    "    - not used functions \n",
    "    -  documentation\n",
    "    - delete data that no longer needed \n",
    "\n",
    "- push and clean git hub branches\n",
    "- change name of git hub folder\n",
    "- ensure environment works \n",
    "- Is graphs.attendance_barchart_none() in use?\n",
    "- readme "
   ]
  }
 ],
 "metadata": {
  "kernelspec": {
   "display_name": "synched-support",
   "language": "python",
   "name": "python3"
  },
  "language_info": {
   "codemirror_mode": {
    "name": "ipython",
    "version": 3
   },
   "file_extension": ".py",
   "mimetype": "text/x-python",
   "name": "python",
   "nbconvert_exporter": "python",
   "pygments_lexer": "ipython3",
   "version": "3.13.0"
  }
 },
 "nbformat": 4,
 "nbformat_minor": 2
}
